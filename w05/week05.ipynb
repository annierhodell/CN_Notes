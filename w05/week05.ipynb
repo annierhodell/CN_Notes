{
 "cells": [
  {
   "cell_type": "markdown",
   "metadata": {},
   "source": [
    "# Week 5: Plotting with `matplotlib` & introduction to numerical integration\n",
    "\n",
    "This week, we introduce the `matplotlib` library and its `pyplot` submodule to create line and scatter plots in Python. We also take the first steps towards numerical methods used to estimate definite integrals numerically.\n",
    "\n",
    "The best way to learn programming is to write code. Don't hesitate to edit the code in the example cells, or add your own code, to test your understanding. You will find practice exercises throughout the notebook, denoted by 🚩 **Exercise $x$**."
   ]
  },
  {
   "cell_type": "code",
   "execution_count": null,
   "metadata": {},
   "outputs": [],
   "source": [
    "from show_solutions import show, initialise_path\n",
    "show = initialise_path(show, '../solutions/w05_solutions.md')"
   ]
  },
  {
   "cell_type": "markdown",
   "metadata": {},
   "source": [
    "---\n",
    "### 📚 Book sections\n",
    "\n",
    "- **ASC**: sections **3.3**, 4.8.2, 6.1, 6.6\n",
    "- **PCP**: sections 1.6.1, 6 (introduction), 6.1\n",
    "\n",
    "🚩 Section **3.3** of **ASC** is highly recommended reading alongside the numerical integration section of this notebook.\n",
    "\n",
    "---\n",
    "## 1. Plotting with `matplotlib.pyplot`\n",
    "\n",
    "### 1.1. A first plot\n",
    "\n",
    "The `matplotlib` library and its `pyplot` interface contain a very large number of built-in functions for plotting data.\n",
    "\n",
    "We import the plotting tools with\n",
    "\n",
    "```python\n",
    "import matplotlib.pyplot as plt\n",
    "```\n",
    "\n",
    "A basic line plot is generated using the `plt.plot()` function. For example, to plot $x \\sin \\left( x \\right)$ for $x \\in \\left[ 0, 2 \\pi \\right]$:\n",
    "* first, create a reasonably large number of values of $x$ at which to plot the function, for example using `np.linspace()` from the Numpy module;\n",
    "* then, evaluate the function at these values;\n",
    "* finally, **create** a line plot with `plt.plot()`, and **display it** with `plt.show()`."
   ]
  },
  {
   "cell_type": "code",
   "execution_count": null,
   "metadata": {},
   "outputs": [],
   "source": [
    "import numpy as np\n",
    "import matplotlib.pyplot as plt\n",
    "\n",
    "# Create an x-axis with 1000 points\n",
    "x = np.linspace(0., 2*np.pi, 1000)\n",
    "\n",
    "# Evaluate the function at all these points\n",
    "y = x * np.sin(x)\n",
    "\n",
    "# Create the plot and display it\n",
    "plt.plot(x, y, 'k-')\n",
    "plt.show()"
   ]
  },
  {
   "cell_type": "markdown",
   "metadata": {},
   "source": [
    "The final argument of `plt.plot()` defines the line colour and line type: here `'k'` indicates black, and `'-'` indicates a solid line.\n",
    "\n",
    "The `plt.plot()` function can be used to generate scatter plots by replacing the character indicating the line style (for example `-` for a solid line) with a symbol to indicate a marker style. For example\n",
    "\n",
    "```python\n",
    "plt.plot(x, y, 'kx')\n",
    "```\n",
    "\n",
    "plots a scatter plot with black crosses. Here the `x` character in the final argument indicates the marker type.\n",
    "\n",
    "\n",
    "---\n",
    "**📚 Learn more:**\n",
    "\n",
    "* [Matplotlib: Python plotting](https://matplotlib.org/contents.html) - Matplotlib documentation\n",
    "* [Matplotlib gallery](https://matplotlib.org/gallery/index.html)\n",
    "* [Pyplot tutorial](https://matplotlib.org/tutorials/introductory/pyplot.html) - Matplotlib documentation\n",
    "* [Matplotlib line style reference](https://matplotlib.org/gallery/lines_bars_and_markers/line_styles_reference.html)\n",
    "* [Matplotlib: Specifying Colors](https://matplotlib.org/users/colors.html) - Matplotlib documentation\n",
    "* [Matplotlib: markers](https://matplotlib.org/api/markers_api.html) - Matplotlib documentation\n",
    "* [numpy.linspace](https://docs.scipy.org/doc/numpy/reference/generated/numpy.linspace.html) - Numpy documentation\n",
    "* [Chapter 4: Visualization with Matplotlib](https://jakevdp.github.io/PythonDataScienceHandbook/#4.-Visualization-with-Matplotlib) - J. VanderPlas, *The Python Data Science Handbook*\n",
    "\n",
    "---\n",
    "\n",
    "When plotting functions you should ensure that you evaluate the function at a sufficient number of points (typically at least $100$). `plt.plot(x, y)` draws one point per element in `x` and `y` (coordinates (`x[0], y[0]`), (`x[1], y[1]`), etc.), and joins these points with straight lines; a line plot therefore only looks smooth if the grid of points is dense enough. Try replacing `1000` with `10` in the code cell above to see this.\n",
    "\n",
    "---\n",
    "🚩 **Exercise 1**\n",
    "\n",
    "Create a plot of the following functions on the interval $x \\in \\left[ -\\pi, \\pi \\right]$. Try different line colours and types. Don't forget to `import matplotlib.pyplot as plt`, or to run the previous example cell to import it.\n",
    "* a) $f_1(x) = \\sin \\left( x \\right)$,  \n",
    "* b) $f_2(x) = \\tan \\left( \\frac{49}{100} x \\right)$,  \n",
    "* c) $f_3(x) = \\sin \\left( x \\right) \\cos \\left( 2 x \\right)$."
   ]
  },
  {
   "cell_type": "code",
   "execution_count": null,
   "metadata": {},
   "outputs": [],
   "source": []
  },
  {
   "cell_type": "code",
   "execution_count": null,
   "metadata": {},
   "outputs": [],
   "source": [
    "show('Exercise 1')"
   ]
  },
  {
   "cell_type": "markdown",
   "metadata": {},
   "source": [
    "---\n",
    "### 1.2. Figures and axes as objects\n",
    "\n",
    "By default, if no plot exists, `plt.plot()` creates a *figure* window, and adds a set of *axes* to the figure. If a set of axes has already been created, when running `plt.plot()` a second time, the same axes are re-used, and the second plot is drawn over the first one. (This is true until you call `plt.show()`; further `plt.plot()` commands after a `plt.show()` will start another figure in your notebook.)\n",
    "\n",
    "Like everything in Python, figures and axes are **objects**. The `plt.subplots()` function can used to create a new figure object, along with one or more set(s) of axes inside it. The statement\n",
    "\n",
    "```python\n",
    "fig, ax = plt.subplots(m, n)\n",
    "```\n",
    "\n",
    "creates a figure object, which we assign to the variable `fig`, and an **array** of axes, assigned to the variable `ax`, tiled in `m` rows and `n` columns.\n",
    "\n",
    "Then, we can select individual axes in the array, and use `.plot()` as before (this time, as a **method** of the `Axes` object). Try it:"
   ]
  },
  {
   "cell_type": "code",
   "execution_count": null,
   "metadata": {},
   "outputs": [],
   "source": [
    "import numpy as np\n",
    "import matplotlib.pyplot as plt\n",
    "\n",
    "# Define x\n",
    "x = np.linspace(0, 2*np.pi, 1000)\n",
    "\n",
    "# Create figure and axes\n",
    "fig_1, ax_1 = plt.subplots(2, 3)\n",
    "\n",
    "# We can also create a second figure, with the optional\n",
    "# \"figsize\" argument of plt.subplots()\n",
    "fig_2, ax_2 = plt.subplots(1, 4, figsize=(7, 2))\n",
    "\n",
    "# Plot on 1st row, 2nd column of the first figure\n",
    "ax_1[0, 1].plot(x, np.sin(x), 'm-')\n",
    "\n",
    "# Plot on 2nd row, 3rd column\n",
    "ax_1[1, 2].plot(x, np.cos(x), 'c-')\n",
    "\n",
    "# Plot on 4th plot of the second figure\n",
    "ax_2[3].plot(x, np.sinc(x), 'g-.')\n",
    "\n",
    "# Show the result\n",
    "plt.show()"
   ]
  },
  {
   "cell_type": "markdown",
   "metadata": {},
   "source": [
    "Try changing the axes onto which these appear (for instance, try the second set of axes in the second figure).\n",
    "\n",
    "Note that, when using `plt.subplots(m, n)` with `m` or `n` equal to `1` (that is, when creating a **single** row or column of plots), as is the case for `ax_2`, you only need **one index** to access a given subplot.\n",
    "\n",
    "---\n",
    "**📚 Learn more:**\n",
    "\n",
    "* [Matplotlib Usage Guide: Parts of a figure](https://matplotlib.org/tutorials/introductory/usage.html#parts-of-a-figure) -- **highly recommended read!**\n",
    "\n",
    "---\n",
    "\n",
    "🚩 **Exercise 2**\n",
    "\n",
    "Use the `plt.subplots()` function to plot the three functions in the previous exercise in one figure, with a different subplot for each."
   ]
  },
  {
   "cell_type": "code",
   "execution_count": null,
   "metadata": {},
   "outputs": [],
   "source": []
  },
  {
   "cell_type": "code",
   "execution_count": null,
   "metadata": {
    "tags": [
     "solution_cell"
    ]
   },
   "outputs": [],
   "source": [
    "show('Exercise 2')"
   ]
  },
  {
   "cell_type": "markdown",
   "metadata": {},
   "source": [
    "---\n",
    "## 2. Formatting plots\n",
    "\n",
    "### 2.1. Setting plot axis properties\n",
    "\n",
    "#### Axis limits\n",
    "\n",
    "The axis range on your plots can be controlled using the `.set_xlim()` and `.set_ylim()` methods. For example, the following code plots the function $\\sin \\left( x \\right)$ for $x \\in \\left[ 0, 2 \\pi \\right]$ on the `Axes` object assigned to the variable `my_ax`, and then specifies that the $x$-axis range should be from $0$ to $2 \\pi$, and the $y$-axis range should be from $-1.1$ to $1.1$."
   ]
  },
  {
   "cell_type": "code",
   "execution_count": null,
   "metadata": {},
   "outputs": [],
   "source": [
    "# Create 100 x-values from 0 to 2*pi\n",
    "x = np.linspace(0, 2*np.pi, 100)\n",
    "\n",
    "# Create the figure and axes\n",
    "my_fig, my_ax = plt.subplots()\n",
    "\n",
    "# Plot sin(x)\n",
    "my_ax.plot(x, np.sin(x), 'k-')\n",
    "\n",
    "# Adjust the x-axis and y-axis limits to tidy up the plot\n",
    "my_ax.set_xlim([0, 2*np.pi])\n",
    "my_ax.set_ylim([-1.1, 1.1])\n",
    "\n",
    "# Show the figure\n",
    "plt.show()"
   ]
  },
  {
   "cell_type": "markdown",
   "metadata": {},
   "source": [
    "#### Axis labels\n",
    "\n",
    "Axis labels can be added using the `.set_xlabel()` and `.set_ylabel()` methods, for example\n",
    "\n",
    "```python\n",
    "ax.set_xlabel('x', fontsize=12)\n",
    "```\n",
    "\n",
    "The label is the first argument, a string. The additional argument, `fontsize=12`, is used to control the font size of the axis label, here setting the font size to $12$pt.  If you wish you can use LaTeX in axis labels via\n",
    "\n",
    "```python\n",
    "ax.set_xlabel(r'$x$', fontsize=12)\n",
    "```\n",
    "\n",
    "where the `r` before the label means \"raw string\"; this allows backslashes in e.g. LaTeX math symbols to be interpreted correctly.\n",
    "\n",
    "> Plots should **always** include appropriate labelling!\n",
    "\n",
    "---\n",
    "🚩 **Exercise 3**\n",
    "\n",
    "Start by running your code for Exercise 2, to create the 3 plots again. Use `set_xlim()` to control the $x$-axis range for each of the 3 plots, plotting values of $x \\in \\left[-\\pi, \\pi \\right]$.\n",
    "\n",
    "Use `set_xlabel()` and `set_ylabel()` to add axis labels to the plots, with a font size of $14$pt.\n",
    "\n",
    "*Hints:*\n",
    "* If the plot becomes a little squeezed, you can adjust the *spacing* between the subplots in a figure after you have created them (but before `plt.show()`), using the function `plt.subplots_adjust()`, for example\n",
    "```python\n",
    "plt.subplots_adjust(hspace=0.5, wspace=0.5)\n",
    "```\n",
    "where `hspace` (height spacing) and `wspace` (width spacing) should take values between 0 and 1. (See [Matplotlib: subplots_adjust](https://matplotlib.org/api/_as_gen/matplotlib.pyplot.subplots_adjust.html))\n",
    "* Since the axes are indexed by number, you can use a `for` loop to set properties common to all axes."
   ]
  },
  {
   "cell_type": "code",
   "execution_count": null,
   "metadata": {},
   "outputs": [],
   "source": []
  },
  {
   "cell_type": "code",
   "execution_count": null,
   "metadata": {
    "tags": [
     "solution_cell"
    ]
   },
   "outputs": [],
   "source": [
    "show('Exercise 3')"
   ]
  },
  {
   "cell_type": "markdown",
   "metadata": {},
   "source": [
    "---\n",
    "### 2.2. Adding a legend\n",
    "\n",
    "Earlier, we have seen how to display multiple lines on the same set of axes. When doing so, it is essential to add a legend to the plot, using **`ax.legend()`**, which labels all curves of the plot in `ax`. The label text should be set **when plotting the curve**, using the `label=` keyword argument of `.plot()`, and can contain LaTeX code.\n",
    "\n",
    "For example, the following code displays a legend on `ax` with the green curve labelled $y_1$ and the yellow curve labelled $y_2$."
   ]
  },
  {
   "cell_type": "code",
   "execution_count": null,
   "metadata": {},
   "outputs": [],
   "source": [
    "# Create an x-axis, and make 2 linear functions of x\n",
    "x = np.linspace(-3, 3, 100)\n",
    "y1 = 3*x - 2\n",
    "y2 = -0.5*x + 1.5\n",
    "\n",
    "# Plot both curves on the same axes\n",
    "fig, ax = plt.subplots()\n",
    "ax.plot(x, y1, 'g-', label=r'$y_1$')\n",
    "ax.plot(x, y2, 'y-', label=r'$y_2$')\n",
    "\n",
    "# .legend() will use the \"label\" arguments for each curve\n",
    "ax.legend(loc='lower right', fontsize=14)\n",
    "\n",
    "plt.show()"
   ]
  },
  {
   "cell_type": "markdown",
   "metadata": {},
   "source": [
    "Note that the **location** can be controlled via an additional keyword argument `loc`, followed by a string indicating the location. Other locations can be chosen, for example you can try changing `'lower right'` to `'upper left'`.\n",
    "\n",
    "The legend font size is also controlled the same way as for axis labels, e.g. here the font size is set to $14$.\n",
    "\n",
    "---\n",
    "**📚 Learn more:**\n",
    "\n",
    "* [Matplotlib: legend](https://matplotlib.org/api/_as_gen/matplotlib.pyplot.legend.html) - Documentation\n",
    "* [Customizing Plot Legends](https://jakevdp.github.io/PythonDataScienceHandbook/04.06-customizing-legends.html) - The Python Data Science Handbook\n",
    "\n",
    "---\n",
    "🚩 **Exercise 4**\n",
    "\n",
    "The Maclaurin series for $\\cos(x)$ is given by\n",
    "\n",
    "$$\n",
    "\\cos(x) = \\sum_{k=0}^{\\infty} (-1)^k \\frac{x^{2k}}{(2k)!}.\n",
    "$$\n",
    "\n",
    "Create a new figure with a single set of axes. Plot $\\cos(x)$ over the interval $[-\\pi, \\pi]$. On the same axes, plot the Maclaurin series truncated to the second, fourth, and sixth order terms, evaluated over the same interval. Set the axis ranges and labels, and add a legend to the plot.\n",
    "\n",
    "*Hint:* you may wish to use the function [`math.factorial()` included with the `math` module](https://docs.python.org/3/library/math.html)."
   ]
  },
  {
   "cell_type": "code",
   "execution_count": null,
   "metadata": {},
   "outputs": [],
   "source": []
  },
  {
   "cell_type": "code",
   "execution_count": null,
   "metadata": {
    "tags": [
     "solution_cell"
    ]
   },
   "outputs": [],
   "source": [
    "show('Exercise 4')"
   ]
  },
  {
   "cell_type": "markdown",
   "metadata": {},
   "source": [
    "---\n",
    "🚩 **Exercise 5**\n",
    "\n",
    "Reproduce the following figure, as closely as possible. (Note: the triangles are called \"markers\" -- you can search for that in the documentation.)\n",
    "\n",
    "![The figure to reproduce.](graphics/fig.png)"
   ]
  },
  {
   "cell_type": "code",
   "execution_count": null,
   "metadata": {},
   "outputs": [],
   "source": []
  },
  {
   "cell_type": "code",
   "execution_count": null,
   "metadata": {
    "tags": [
     "solution_cell"
    ]
   },
   "outputs": [],
   "source": [
    "show('Exercise 5')"
   ]
  },
  {
   "cell_type": "markdown",
   "metadata": {},
   "source": [
    "## 3. Numerical integration\n",
    "\n",
    "🚩 *Recommended reading:* Section 3.3 in **ASC**\n",
    "\n",
    "Numerical integration is the process of computing an approximation of a definite integral, using a particular *scheme*. There are many different ways we could go about this, but in general, we want to approximate an integral using a **weighted sum** which is easy to compute:\n",
    "\n",
    "$$\n",
    "\\int_a^b f(x) \\ dx \\approx \\sum_{k=0}^{N-1} w_k f(x_k),\n",
    "$$\n",
    "\n",
    "where\n",
    "- $x_k \\in [a, b]$ are **nodes**, i.e. a finite number of points chosen in the integration interval,\n",
    "- $w_k \\in \\mathbb{R}$ are **weights** (coefficients) chosen appropriately.\n",
    "\n",
    "The choice of nodes and weights differentiates one numerical integration method from another, and different choices lead to different *degrees of precision*. We can also build *composite rules* by sub-dividing the interval $[a, b]$ into smaller intervals, and approximating the integral on each sub-interval, and summing the results. We will see more about all of this next week.\n",
    "\n",
    "### 3.0. Preface: Modules\n",
    "\n",
    "To avoid cluttering our notebook, the bulk of the code for the rest of this notebook is provided as functions, in the **module** `integration.py`.\n",
    "\n",
    "A **module** is simply a `.py` file which contains Python definitions. You have already used plenty of them -- for example, `show_solutions.py`, or really anything you have `import`ed before.\n",
    "\n",
    "Take a look inside `integration.py`. It contains some functions we will use later. For now, look at `test_after_import()`. To use the functions inside the module here in your notebook, we just need to import it, using the file name (without the `.py`), and then **prefix** function calls with its name (exactly like we've been doing for e.g. NumPy functions):"
   ]
  },
  {
   "cell_type": "code",
   "execution_count": null,
   "metadata": {},
   "outputs": [],
   "source": [
    "import integration as intg\n",
    "\n",
    "intg.test_after_import(3)"
   ]
  },
  {
   "cell_type": "markdown",
   "metadata": {},
   "source": [
    "Now, **edit `integration.py`** to add a second `print()` command of your choice inside the `test_after_import()` function. Run the code below to check if your changes have taken effect:"
   ]
  },
  {
   "cell_type": "code",
   "execution_count": null,
   "metadata": {},
   "outputs": [],
   "source": [
    "intg.test_after_import(4)"
   ]
  },
  {
   "cell_type": "markdown",
   "metadata": {},
   "source": [
    "This doesn't work! The notebook is still using the old version of the module, before your new changes. Even if we re-import the module again, this still won't work:"
   ]
  },
  {
   "cell_type": "code",
   "execution_count": null,
   "metadata": {},
   "outputs": [],
   "source": [
    "import integration as intg\n",
    "intg.test_after_import(4)"
   ]
  },
  {
   "cell_type": "markdown",
   "metadata": {},
   "source": [
    "After `import`ing a module, re-running the same `import` command in a notebook at a later point will **not** actually re-import your module, even if you've made changes to it. This is a default Python behaviour: it will only import a module once per interactive session (i.e. until you restart the kernel).\n",
    "\n",
    "The solution is to \"force\" the notebook to re-import the module, every time you make changes to it. We can do this using the `reload()` function provided by the `importlib` built-in module (the `;` is just to remove the ugly output):"
   ]
  },
  {
   "cell_type": "code",
   "execution_count": null,
   "metadata": {},
   "outputs": [],
   "source": [
    "import importlib\n",
    "importlib.reload(intg);\n",
    "\n",
    "# Try again...\n",
    "intg.test_after_import(4)"
   ]
  },
  {
   "cell_type": "markdown",
   "metadata": {},
   "source": [
    "Keep this in mind when you are prototyping your own modules.\n",
    "\n",
    "---\n",
    "\n",
    "#### Running a module as a Python script\n",
    "\n",
    "Scroll down to the bottom of `integration.py`. You will see something a little strange:\n",
    "\n",
    "```python\n",
    "if __name__ == '__main__':\n",
    "    test_after_import(np.pi)\n",
    "```\n",
    "\n",
    "If you try to **run** `integration.py` as a regular standalone Python script, you should see that the command in the `if` statement is executed as normal.\n",
    "\n",
    "Now, comment out the line with the `if` statement, un-indent the function call below it, and run `integration.py` as a script again. The command should still be executed as normal -- so far, so good.\n",
    "\n",
    "However, let's re-import the module in our notebook (remember, we have to reload it):"
   ]
  },
  {
   "cell_type": "code",
   "execution_count": null,
   "metadata": {},
   "outputs": [],
   "source": [
    "importlib.reload(intg);"
   ]
  },
  {
   "cell_type": "markdown",
   "metadata": {},
   "source": [
    "Now, because we got rid of `if __name__ == '__main__':`, we have a stray Python command at the end of our module, which will be executed _every time_ we import the module.\n",
    "\n",
    "This is clearly not what we want -- usually we want to `import` things silently. In a module, you should typically only have `import` statements at the top, and function **definitions**. However, sometimes it's useful to be able to **test** the functions in a module, for example, without having to import it into a notebook. In that case, all the code used for testing should go under `if __name__ == '__main__':`.\n",
    "\n",
    "---\n",
    "**📚 Learn more:**\n",
    "\n",
    "- [Modules](https://docs.python.org/3/tutorial/modules.html) - Python documentation\n",
    "- [Executing modules as scripts](https://docs.python.org/3/tutorial/modules.html#executing-modules-as-scripts)\n",
    "\n",
    "---\n",
    "\n",
    "*Optional if you're curious: [`__main__` is the name of the environment where top-level code is run](https://docs.python.org/3/library/__main__.html#what-is-the-top-level-code-environment). Take a look at `my_module.py`, and the output of this cell (it's force-reloaded every time in case you want to change it and see what happens):*"
   ]
  },
  {
   "cell_type": "code",
   "execution_count": null,
   "metadata": {},
   "outputs": [],
   "source": [
    "import my_module\n",
    "importlib.reload(my_module);\n",
    "\n",
    "print(f'From the notebook: __name__ is {__name__}')"
   ]
  },
  {
   "cell_type": "markdown",
   "metadata": {},
   "source": [
    "---\n",
    "\n",
    "### 3.1. Riemann sums\n",
    "\n",
    "You probably already know a numerical integration method -- the Riemann sum. Run the code cell below to display a figure (it uses [`matplotlib.patches.Polygon()`](https://matplotlib.org/stable/api/_as_gen/matplotlib.patches.Polygon.html) -- take a look inside `integration.py`):"
   ]
  },
  {
   "cell_type": "code",
   "execution_count": null,
   "metadata": {},
   "outputs": [],
   "source": [
    "# Import our custom 'integration.py' module\n",
    "import integration as intg\n",
    "import importlib\n",
    "importlib.reload(intg);\n",
    "import numpy as np\n",
    "\n",
    "# Create some test function\n",
    "def f(x):\n",
    "    return np.exp(-x**2)\n",
    "\n",
    "# We want to integrate f over an interval [a, b], sub-divided into N segments\n",
    "a, b = 0, 3\n",
    "M = 8\n",
    "\n",
    "# Display an illustration of the left and right Riemann sum methods\n",
    "intg.display_diagram('riemann_L', f, a, b, M)\n",
    "intg.display_diagram('riemann_R', f, a, b, M)"
   ]
  },
  {
   "cell_type": "markdown",
   "metadata": {},
   "source": [
    "We can estimate the integral of $f(x)$ by calculating the total area shaded in blue.\n",
    "\n",
    "This is an example of a **composite rule**. Let's break it down: we first subdivide the interval $[a, b]$ into $M$ sub-intervals of equal width $h$, with\n",
    "\n",
    "$$\n",
    "h = \\frac{b-a}{M}.\n",
    "$$\n",
    "\n",
    "We now have the $N$ sub-intervals $[a + ih, a + (i+1)h]$, where $i = 0, 1, \\dots, M-1$. Then, on **each** sub-interval, this method approximates the value of the function at **one point** (one **node**):\n",
    "\n",
    "- the *left* Riemann sum uses the *left* boundary of each sub-interval, $a + ih$;\n",
    "- the *right* Riemann sum uses the *right* boundary of each sub-interval, $a + (i+1)h$.\n",
    "\n",
    "The integral of $f(x)$ over each sub-interval $a + ih$ is approximated by the area of one rectangle, with width $h$, and height $f(a+ih)$ (left) or $f(a+(i+1)h)$ (right). To obtain the total integral of $f(x)$ over $[a, b]$, we can sum the approximated integrals over each sub-interval:\n",
    "\n",
    "$$\n",
    "\\int_a^b f(x) \\ dx \\approx\n",
    "\\begin{cases}\n",
    "\\sum_{i=0}^{M-1} h \\ f(a + ih) & \\qquad \\text{left Riemann sum}, \\\\\n",
    "\\sum_{i=0}^{M-1} h \\ f(a + (i+1)h) & \\qquad \\text{right Riemann sum}.\n",
    "\\end{cases}\n",
    "$$\n",
    "\n",
    "---\n",
    "\n",
    "Let's estimate the integral of $f(x)$ using the left and right Riemann sums, and compare the results to the exact integral. Take a look at the `estimate_integral()` function in `integration.py`, make sure you understand how it works, and run the code below:"
   ]
  },
  {
   "cell_type": "code",
   "execution_count": null,
   "metadata": {},
   "outputs": [],
   "source": [
    "from math import erf\n",
    "\n",
    "# Estimate the integral using the left and right Riemann sums\n",
    "I_approx_left = intg.estimate_integral('riemann_L', f, a, b, M)\n",
    "I_approx_right = intg.estimate_integral('riemann_R', f, a, b, M)\n",
    "\n",
    "# Exact value\n",
    "I_exact = np.sqrt(np.pi) / 2 * (erf(b) - erf(a))\n",
    "\n",
    "print(f'The exact integral is {I_exact:.3f}.\\n')\n",
    "print(f'The left Riemann sum is {I_approx_left:.3f}.\\n')\n",
    "print(f'The right Riemann sum is {I_approx_right:.3f}.\\n')"
   ]
  },
  {
   "cell_type": "markdown",
   "metadata": {},
   "source": [
    "---\n",
    "🚩 **Exercise 6**\n",
    "\n",
    "Using the Riemann sum methods above, estimate the value of the integral using different values of $M$. How does the error change with $M$?\n",
    "\n",
    "*Hint:* try values of M which are powers of 2, and plot $\\log(M)$ vs. $\\log(\\text{error})$. How does the error change when $M$ doubles? You may wish to use e.g. [`np.polyfit()`](https://numpy.org/doc/stable/reference/generated/numpy.polyfit.html) or [`scipy.stats.linregress()`](https://docs.scipy.org/doc/scipy/reference/generated/scipy.stats.linregress.html)."
   ]
  },
  {
   "cell_type": "code",
   "execution_count": null,
   "metadata": {},
   "outputs": [],
   "source": []
  },
  {
   "cell_type": "code",
   "execution_count": null,
   "metadata": {
    "tags": [
     "solution_cell"
    ]
   },
   "outputs": [],
   "source": [
    "show('Exercise 6')"
   ]
  },
  {
   "cell_type": "markdown",
   "metadata": {},
   "source": [
    "---\n",
    "### 3.2. The midpoint rule\n",
    "\n",
    "The midpoint rule is similar to the Riemann sums (it also uses only one node), but the node in each partition is taken as the **midpoint** of the partition, instead of one of the extremities:\n",
    "\n",
    "$$\n",
    "\\int_a^b f(x) \\ dx \\approx \\sum_{i=0}^{M-1} h \\ f\\left(a + \\left(i + \\frac{1}{2}\\right)h\\right).\n",
    "$$"
   ]
  },
  {
   "cell_type": "code",
   "execution_count": null,
   "metadata": {},
   "outputs": [],
   "source": [
    "# Display an illustration of the midpoint rule\n",
    "intg.display_diagram('midpoint', f, a, b, M)\n",
    "\n",
    "# Estimate the integral\n",
    "I_approx_midpoint = intg.estimate_integral('midpoint', f, a, b, M)\n",
    "\n",
    "# Exact value\n",
    "I_exact = np.sqrt(np.pi) / 2 * (erf(b) - erf(a))\n",
    "\n",
    "print(f'The exact integral is {I_exact:.6f}.\\n')\n",
    "print(f'The estimated integral using the midpoint rule is {I_approx_midpoint:.6f}.\\n')"
   ]
  },
  {
   "cell_type": "markdown",
   "metadata": {},
   "source": [
    "---\n",
    "🚩 **Exercise 7**\n",
    "\n",
    "Using the midpoint rule method above, estimate the value of the integral using different values of $M$. How does the error change with $M$?"
   ]
  },
  {
   "cell_type": "code",
   "execution_count": null,
   "metadata": {},
   "outputs": [],
   "source": []
  },
  {
   "cell_type": "code",
   "execution_count": null,
   "metadata": {
    "tags": [
     "solution_cell"
    ]
   },
   "outputs": [],
   "source": [
    "show('Exercise 7')"
   ]
  },
  {
   "cell_type": "markdown",
   "metadata": {},
   "source": [
    "---\n",
    "### 3.3. The trapezoid rule\n",
    "\n",
    "The trapezoid rule also uses partitions of equal width, but instead of approximating the integral as the area of rectangles, it uses trapezoids. In other words, the function is interpolated linearly between **two nodes**, one at each boundary of the sub-interval.\n",
    "\n",
    "$$\n",
    "\\int_a^b f(x) \\ dx \\approx \\sum_{i=0}^{M-1} \\frac{h}{2}\\left(f(x_i) + f(x_{i+1})\\right) ,\n",
    "$$\n",
    "\n",
    "where the node $x_i$ is given by $x_i = a + ih$, with $i = 0, 1, \\dots, N$."
   ]
  },
  {
   "cell_type": "code",
   "execution_count": null,
   "metadata": {},
   "outputs": [],
   "source": [
    "# Show an illustration of the trapezoid rule\n",
    "intg.display_diagram('trap', f, a, b, M)\n",
    "\n",
    "# Estimate the integral\n",
    "I_approx_trap = intg.estimate_integral('trap', f, a, b, M)\n",
    "\n",
    "# Exact value\n",
    "I_exact = np.sqrt(np.pi) / 2 * (erf(b) - erf(a))\n",
    "\n",
    "print(f'The exact integral is {I_exact:.6f}.\\n')\n",
    "print(f'The estimated integral using the trapezoid rule is {I_approx_trap:.6f}.\\n')"
   ]
  },
  {
   "cell_type": "markdown",
   "metadata": {},
   "source": [
    "---\n",
    "🚩 **Exercise 8**\n",
    "\n",
    "Using the trapezoid rule method above, estimate the value of the integral using different values of $M$. How does the error change with $M$?"
   ]
  },
  {
   "cell_type": "code",
   "execution_count": null,
   "metadata": {},
   "outputs": [],
   "source": []
  },
  {
   "cell_type": "code",
   "execution_count": null,
   "metadata": {
    "tags": [
     "solution_cell"
    ]
   },
   "outputs": [],
   "source": [
    "show('Exercise 8')"
   ]
  }
 ],
 "metadata": {
  "kernelspec": {
   "display_name": "Python 3 (ipykernel)",
   "language": "python",
   "name": "python3"
  },
  "language_info": {
   "codemirror_mode": {
    "name": "ipython",
    "version": 3
   },
   "file_extension": ".py",
   "mimetype": "text/x-python",
   "name": "python",
   "nbconvert_exporter": "python",
   "pygments_lexer": "ipython3",
   "version": "3.12.0"
  },
  "vscode": {
   "interpreter": {
    "hash": "34838cf76e0e5c5fb32fc8cb6b167357c695f93ccc4f6d1dbce185fbb8488c24"
   }
  }
 },
 "nbformat": 4,
 "nbformat_minor": 4
}
